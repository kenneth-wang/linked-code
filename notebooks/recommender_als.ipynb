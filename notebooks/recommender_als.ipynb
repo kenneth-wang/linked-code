{
 "cells": [
  {
   "cell_type": "code",
   "execution_count": 1,
   "id": "14e0d4e7-750d-4bd0-b381-73692b93d291",
   "metadata": {},
   "outputs": [],
   "source": [
    "import ast\n",
    "import json\n",
    "from pprint import pprint\n",
    "\n",
    "import pandas as pd\n",
    "import numpy as np\n",
    "import seaborn as sns\n",
    "import matplotlib.pyplot as plt\n",
    "\n",
    "from pyspark import SparkConf, SparkContext\n",
    "from pyspark.sql import SparkSession, types, functions\n",
    "\n",
    "from pyspark.ml.evaluation import RegressionEvaluator\n",
    "from pyspark.ml.recommendation import ALS,ALSModel\n",
    "from pyspark.ml.tuning import ParamGridBuilder, CrossValidator"
   ]
  },
  {
   "cell_type": "code",
   "execution_count": 2,
   "id": "cd18de56-a9e9-4ec8-9825-de9c9aca4e79",
   "metadata": {},
   "outputs": [
    {
     "name": "stdout",
     "output_type": "stream",
     "text": [
      "{'data': {'mongodb_uri': 'localhost:27017/', 'repository_tbl': 'cs5344.repos', 'user_tbl': 'cs5344.users', 'combined_tbl': 'cs5344.combined'}, 'recommender': {'_comment': 'save_preprocess is a flag to save output from preprocessing', 'save_preprocess': False}}\n"
     ]
    }
   ],
   "source": [
    "# Read in config file\n",
    "with open(\"../config.json\") as fp:\n",
    "    config = json.load(fp)"
   ]
  },
  {
   "cell_type": "code",
   "execution_count": 3,
   "id": "afd8a350-2b8f-404f-9a35-857c9802dd46",
   "metadata": {},
   "outputs": [
    {
     "name": "stderr",
     "output_type": "stream",
     "text": [
      "21/10/30 11:03:51 WARN Utils: Your hostname, LAPTOP-TCC7ITKI resolves to a loopback address: 127.0.1.1; using 172.28.245.193 instead (on interface eth0)\n",
      "21/10/30 11:03:51 WARN Utils: Set SPARK_LOCAL_IP if you need to bind to another address\n"
     ]
    },
    {
     "name": "stdout",
     "output_type": "stream",
     "text": [
      ":: loading settings :: url = jar:file:/home/azmimr/miniconda3/envs/main_env/lib/python3.8/site-packages/pyspark/jars/ivy-2.5.0.jar!/org/apache/ivy/core/settings/ivysettings.xml\n"
     ]
    },
    {
     "name": "stderr",
     "output_type": "stream",
     "text": [
      "Ivy Default Cache set to: /home/azmimr/.ivy2/cache\n",
      "The jars for the packages stored in: /home/azmimr/.ivy2/jars\n",
      "org.mongodb.spark#mongo-spark-connector_2.12 added as a dependency\n",
      ":: resolving dependencies :: org.apache.spark#spark-submit-parent-8f58a9c1-a107-4bbb-acea-d5b43c074e40;1.0\n",
      "\tconfs: [default]\n",
      "\tfound org.mongodb.spark#mongo-spark-connector_2.12;3.0.0 in central\n",
      "\tfound org.mongodb#mongodb-driver-sync;4.0.5 in central\n",
      "\tfound org.mongodb#bson;4.0.5 in central\n",
      "\tfound org.mongodb#mongodb-driver-core;4.0.5 in central\n",
      ":: resolution report :: resolve 626ms :: artifacts dl 20ms\n",
      "\t:: modules in use:\n",
      "\torg.mongodb#bson;4.0.5 from central in [default]\n",
      "\torg.mongodb#mongodb-driver-core;4.0.5 from central in [default]\n",
      "\torg.mongodb#mongodb-driver-sync;4.0.5 from central in [default]\n",
      "\torg.mongodb.spark#mongo-spark-connector_2.12;3.0.0 from central in [default]\n",
      "\t---------------------------------------------------------------------\n",
      "\t|                  |            modules            ||   artifacts   |\n",
      "\t|       conf       | number| search|dwnlded|evicted|| number|dwnlded|\n",
      "\t---------------------------------------------------------------------\n",
      "\t|      default     |   4   |   0   |   0   |   0   ||   4   |   0   |\n",
      "\t---------------------------------------------------------------------\n",
      ":: retrieving :: org.apache.spark#spark-submit-parent-8f58a9c1-a107-4bbb-acea-d5b43c074e40\n",
      "\tconfs: [default]\n",
      "\t0 artifacts copied, 4 already retrieved (0kB/16ms)\n",
      "21/10/30 11:03:54 WARN NativeCodeLoader: Unable to load native-hadoop library for your platform... using builtin-java classes where applicable\n",
      "Using Spark's default log4j profile: org/apache/spark/log4j-defaults.properties\n",
      "Setting default log level to \"WARN\".\n",
      "To adjust logging level use sc.setLogLevel(newLevel). For SparkR, use setLogLevel(newLevel).\n"
     ]
    }
   ],
   "source": [
    "spark = (\n",
    "    SparkSession\n",
    "    .builder \n",
    "    .appName(\"reviews\") \n",
    "    .config(\"spark.driver.memory\", \"10g\")\n",
    "    .config(\"spark.driver.maxResultSize\", \"0\") \n",
    "    .config(\"spark.jars.packages\", \"org.mongodb.spark:mongo-spark-connector_2.12:3.0.0\") \n",
    "    .getOrCreate()\n",
    ")"
   ]
  },
  {
   "cell_type": "code",
   "execution_count": 4,
   "id": "9e149618-0e50-43dd-acd5-dff841801008",
   "metadata": {},
   "outputs": [],
   "source": [
    "mongodb_uri = config['data']['mongodb_uri']\n",
    "    \n",
    "# collection names for the various datasets\n",
    "repos_coll = config['data']['repository_tbl']\n",
    "users_coll = config['data']['user_tbl']\n",
    "combined_coll = config['data']['combined_tbl']"
   ]
  },
  {
   "cell_type": "markdown",
   "id": "0ca027ba-4f03-48ad-b261-353c33a25e44",
   "metadata": {},
   "source": [
    "## Recommendation Model using Collaborative Filtering"
   ]
  },
  {
   "cell_type": "code",
   "execution_count": 5,
   "id": "a0859b91-cbd7-4f90-b042-35d5aa89315a",
   "metadata": {},
   "outputs": [
    {
     "name": "stderr",
     "output_type": "stream",
     "text": [
      "                                                                                \r"
     ]
    }
   ],
   "source": [
    "# Read in data. Each row consists of a user id and a repo id which he/she starred\n",
    "combined = (\n",
    "    spark\n",
    "    .read.format(\"com.mongodb.spark.sql.DefaultSource\")\n",
    "    .option(\"uri\",\"mongodb://\" + mongodb_uri + combined_coll)\n",
    "    .load()\n",
    ")"
   ]
  },
  {
   "cell_type": "code",
   "execution_count": 6,
   "id": "c259f984-f924-4b21-8017-fdfcf93ccaa5",
   "metadata": {},
   "outputs": [
    {
     "name": "stdout",
     "output_type": "stream",
     "text": [
      "+--------------------+-------+--------+-------+\n",
      "|                 _id|repo_id| user_id|starred|\n",
      "+--------------------+-------+--------+-------+\n",
      "|{616a414ee158a735...|  18944|    4524|      1|\n",
      "|{616a414ee158a735...|  18944|  195597|      1|\n",
      "|{616a414ee158a735...| 122484|   17833|      1|\n",
      "|{616a414ee158a735...| 124647| 1849731|      1|\n",
      "|{616a414ee158a735...| 129791|    6581|      1|\n",
      "|{616a414ee158a735...| 129791|   78595|      1|\n",
      "|{616a414ee158a735...| 129791|   89980|      1|\n",
      "|{616a414ee158a735...| 129791|  135803|      1|\n",
      "|{616a414ee158a735...| 129791|  263237|      1|\n",
      "|{616a414ee158a735...| 129791|  307240|      1|\n",
      "|{616a414ee158a735...| 129791|  800485|      1|\n",
      "|{616a414ee158a735...| 129791| 1450340|      1|\n",
      "|{616a414ee158a735...| 129791| 1793013|      1|\n",
      "|{616a414ee158a735...| 129791| 3086940|      1|\n",
      "|{616a414ee158a735...| 129791|10206753|      1|\n",
      "|{616a414ee158a735...| 129791|16163477|      1|\n",
      "|{616a414ee158a735...| 179115|  275239|      1|\n",
      "|{616a414ee158a735...| 206378| 7951015|      1|\n",
      "|{616a414ee158a735...| 206378|12407716|      1|\n",
      "|{616a414ee158a735...| 206378|15934072|      1|\n",
      "+--------------------+-------+--------+-------+\n",
      "only showing top 20 rows\n",
      "\n"
     ]
    }
   ],
   "source": [
    "# Add the starred column. All rows will have the value 1\n",
    "combined = combined.withColumn(\"starred\",functions.lit(1))\n",
    "\n",
    "# Display a few values. The index _id is not needed\n",
    "combined.show()"
   ]
  },
  {
   "cell_type": "code",
   "execution_count": 7,
   "id": "0998ab61-678f-43f0-beb8-a8cd14772afe",
   "metadata": {},
   "outputs": [
    {
     "name": "stderr",
     "output_type": "stream",
     "text": [
      "[Stage 13:=======================>                                (7 + 10) / 17]\r"
     ]
    },
    {
     "name": "stdout",
     "output_type": "stream",
     "text": [
      "Total rows in datasets = 71356676\n",
      "Number of unique users = 1132411\n",
      "Number of unique repos = 1146520\n"
     ]
    },
    {
     "name": "stderr",
     "output_type": "stream",
     "text": [
      "                                                                                \r"
     ]
    }
   ],
   "source": [
    "num_rows = combined.count()\n",
    "num_uniq_users = combined.select('user_id').distinct().count()\n",
    "num_uniq_repos = combined.select('repo_id').distinct().count()\n",
    "\n",
    "print(f\"Total rows in datasets = {num_rows}\")\n",
    "print(f\"Number of unique users = {num_uniq_users}\")\n",
    "print(f\"Number of unique repos = {num_uniq_repos}\")"
   ]
  },
  {
   "cell_type": "code",
   "execution_count": 8,
   "id": "d93cf0e2-501f-4f66-b2c3-8b23e432cf32",
   "metadata": {},
   "outputs": [],
   "source": [
    "# Train/test split data\n",
    "test_proportion = 0.2\n",
    "\n",
    "(train, test) = combined.randomSplit([(1-test_proportion), test_proportion], seed = 42)"
   ]
  },
  {
   "cell_type": "code",
   "execution_count": 9,
   "id": "7750c34a-d5d6-44d9-8586-1084bd438da5",
   "metadata": {},
   "outputs": [],
   "source": [
    "# Instantiate the model instance\n",
    "als = ALS(\n",
    "    maxIter=5, \n",
    "    regParam=0.01, \n",
    "    userCol=\"user_id\", \n",
    "    itemCol=\"repo_id\", \n",
    "    ratingCol=\"starred\",\n",
    "    nonnegative = True, \n",
    "    implicitPrefs = True,\n",
    "    coldStartStrategy=\"drop\"\n",
    ")"
   ]
  },
  {
   "cell_type": "code",
   "execution_count": 10,
   "id": "f361d73e-92cd-40e6-8aeb-fa9a9880a999",
   "metadata": {},
   "outputs": [
    {
     "name": "stderr",
     "output_type": "stream",
     "text": [
      "                                                                                \r"
     ]
    },
    {
     "name": "stdout",
     "output_type": "stream",
     "text": [
      "CPU times: user 400 ms, sys: 83.9 ms, total: 484 ms\n",
      "Wall time: 8min 20s\n"
     ]
    }
   ],
   "source": [
    "%%time\n",
    "# Train\n",
    "model = als.fit(train)"
   ]
  },
  {
   "cell_type": "code",
   "execution_count": 11,
   "id": "5f5a1691-4f03-42ec-a788-dca23e4f7293",
   "metadata": {},
   "outputs": [
    {
     "name": "stderr",
     "output_type": "stream",
     "text": [
      "[Stage 184:===================================================>   (16 + 1) / 17]\r"
     ]
    },
    {
     "name": "stdout",
     "output_type": "stream",
     "text": [
      "Root-mean-square error = 0.9432094786247853\n"
     ]
    },
    {
     "name": "stderr",
     "output_type": "stream",
     "text": [
      "                                                                                \r"
     ]
    }
   ],
   "source": [
    "# Evaluate the model by computing the RMSE on the test data\n",
    "predictions = model.transform(test)\n",
    "evaluator = RegressionEvaluator(metricName=\"rmse\", labelCol=\"starred\",\n",
    "                                predictionCol=\"prediction\")\n",
    "rmse = evaluator.evaluate(predictions)\n",
    "print(\"Root-mean-square error = \" + str(rmse))"
   ]
  },
  {
   "cell_type": "code",
   "execution_count": 12,
   "id": "bd088e30-87ff-4d15-8c54-ff921df6df33",
   "metadata": {},
   "outputs": [
    {
     "name": "stderr",
     "output_type": "stream",
     "text": [
      "[Stage 235:>                                                        (0 + 1) / 1]\r"
     ]
    },
    {
     "name": "stdout",
     "output_type": "stream",
     "text": [
      "+--------------------+-------+-------+-------+------------+\n",
      "|                 _id|repo_id|user_id|starred|  prediction|\n",
      "+--------------------+-------+-------+-------+------------+\n",
      "|{616a417de158a735...|     53| 144334|      1| 7.431414E-5|\n",
      "|{616a4164e158a735...|     65|   1088|      1|0.0029117684|\n",
      "|{616a418ce158a735...|     65|   2313|      1|2.2667405E-4|\n",
      "|{616a4169e158a735...|     65|  12273|      1| 0.001912994|\n",
      "|{616a4156e158a735...|     65|    748|      1|2.9926094E-5|\n",
      "|{616a4178e158a735...|     65|   2155|      1|5.0180755E-4|\n",
      "|{616a4156e158a735...|     65|   6996|      1|5.8697007E-4|\n",
      "|{616a417de158a735...|     65|   1901|      1| 3.924508E-4|\n",
      "|{616a4178e158a735...|     65|   2019|      1|  3.78215E-4|\n",
      "|{616a4182e158a735...|     65|   4145|      1|1.5860506E-4|\n",
      "|{616a4187e158a735...|     65|    439|      1| 5.594585E-4|\n",
      "|{616a417de158a735...|     65|   9307|      1|0.0051337653|\n",
      "|{616a4156e158a735...|     65|   7138|      1| 4.963239E-4|\n",
      "|{616a414ee158a735...|     65|  12004|      1| 0.003033185|\n",
      "|{616a414ee158a735...|     65| 778015|      1|0.0107958745|\n",
      "|{616a4178e158a735...|     65|   2749|      1| 0.005314508|\n",
      "|{616a415fe158a735...|     65|   7126|      1| 9.772241E-4|\n",
      "|{616a4163e158a735...|     65|  11236|      1| 7.473684E-4|\n",
      "|{616a418be158a735...|     85|5686973|      1|2.5713662E-4|\n",
      "|{616a4171e158a735...|     85|5720039|      1| 2.057466E-4|\n",
      "+--------------------+-------+-------+-------+------------+\n",
      "only showing top 20 rows\n",
      "\n"
     ]
    },
    {
     "name": "stderr",
     "output_type": "stream",
     "text": [
      "                                                                                \r"
     ]
    }
   ],
   "source": [
    "predictions.show()"
   ]
  },
  {
   "cell_type": "code",
   "execution_count": 13,
   "id": "2f5a5797-f0d0-4a1c-9167-3371d427ec70",
   "metadata": {},
   "outputs": [
    {
     "name": "stderr",
     "output_type": "stream",
     "text": [
      "                                                                                \r"
     ]
    }
   ],
   "source": [
    "# Save model\n",
    "model.write().overwrite().save(\"../models/recommender_als\")"
   ]
  },
  {
   "cell_type": "markdown",
   "id": "26c4591e-1e5c-4bad-825c-92ceaef43b21",
   "metadata": {},
   "source": [
    "### Various recommendation outputs for the model"
   ]
  },
  {
   "cell_type": "code",
   "execution_count": null,
   "id": "98597904-e602-4a51-997b-838207f1af91",
   "metadata": {},
   "outputs": [],
   "source": [
    "# # Get top N recommended repos for all users\n",
    "# user_recs = model.recommendForAllUsers(3)\n",
    "\n",
    "# # Use filtering to get the recommendation for a particular user\n",
    "# user_recs.where(user_recs.user_id == 41994)"
   ]
  },
  {
   "cell_type": "code",
   "execution_count": null,
   "id": "074a85b3-9401-46ce-8c35-da7d51bc439a",
   "metadata": {},
   "outputs": [],
   "source": [
    "# # Get top N recommended user for all repos\n",
    "# item_recs = model.recommendForAllItems(3)\n",
    "\n",
    "# # Use filtering to get the recommendation for a particular repo\n",
    "# item_recs.where(item_recs.repo_id == 1829)"
   ]
  },
  {
   "cell_type": "code",
   "execution_count": 14,
   "id": "af2ded07-198b-4404-8350-a77b5a281505",
   "metadata": {},
   "outputs": [
    {
     "name": "stderr",
     "output_type": "stream",
     "text": [
      "                                                                                \r"
     ]
    },
    {
     "name": "stdout",
     "output_type": "stream",
     "text": [
      "+--------------------+---------+--------+-------+\n",
      "|                 _id|  repo_id| user_id|starred|\n",
      "+--------------------+---------+--------+-------+\n",
      "|{616a418ee158a735...|151232910|29633025|      1|\n",
      "+--------------------+---------+--------+-------+\n",
      "\n"
     ]
    }
   ],
   "source": [
    "# Sample 1 user\n",
    "test_user = test.rdd.takeSample(False,1,seed=42)\n",
    "# Display what is taken\n",
    "spark.createDataFrame(test_user).show()"
   ]
  },
  {
   "cell_type": "code",
   "execution_count": 15,
   "id": "9fe0ef95-8c35-4491-be32-018b76529467",
   "metadata": {},
   "outputs": [
    {
     "name": "stderr",
     "output_type": "stream",
     "text": [
      "/home/azmimr/miniconda3/envs/main_env/lib/python3.8/site-packages/pyspark/sql/context.py:161: FutureWarning: Deprecated in 3.0.0. Use SparkSession.builder.getOrCreate() instead.\n",
      "  warnings.warn(\n"
     ]
    }
   ],
   "source": [
    "# Recommend for this user\n",
    "recommend_repos = model.recommendForUserSubset(spark.createDataFrame(test_user),3)"
   ]
  },
  {
   "cell_type": "code",
   "execution_count": 16,
   "id": "bbc0b3a6-988f-4c7c-b45c-367e1581b8bf",
   "metadata": {},
   "outputs": [],
   "source": [
    "# recommend_repos.withColumn('recommendations', functions.explode(recommend_repos['recommendations'])).printSchema()"
   ]
  },
  {
   "cell_type": "code",
   "execution_count": 17,
   "id": "8840ff6f-81e7-4fab-bb42-2fb82cb8184d",
   "metadata": {},
   "outputs": [
    {
     "name": "stderr",
     "output_type": "stream",
     "text": [
      "[Stage 299:=================================================>(1984 + 16) / 2000]\r"
     ]
    },
    {
     "name": "stdout",
     "output_type": "stream",
     "text": [
      "+--------+--------+----------+\n",
      "| user_id| repo_id|    rating|\n",
      "+--------+--------+----------+\n",
      "|29633025|10270250|0.41122252|\n",
      "|29633025|14440270| 0.3534975|\n",
      "|29633025| 6498492| 0.3428549|\n",
      "+--------+--------+----------+\n",
      "\n"
     ]
    },
    {
     "name": "stderr",
     "output_type": "stream",
     "text": [
      "                                                                                \r"
     ]
    }
   ],
   "source": [
    "(\n",
    "    recommend_repos\n",
    "    .withColumn('recommendations', functions.explode(recommend_repos['recommendations']))\n",
    "    .select(['user_id', functions.col(\"recommendations.repo_id\"), functions.col(\"recommendations.rating\")])\n",
    "    .show()\n",
    ")"
   ]
  },
  {
   "cell_type": "code",
   "execution_count": 18,
   "id": "ab7687d2-543e-4a03-b68d-ac900263e4d4",
   "metadata": {},
   "outputs": [
    {
     "name": "stderr",
     "output_type": "stream",
     "text": [
      "[Stage 346:================================================> (1959 + 16) / 2000]\r"
     ]
    },
    {
     "name": "stdout",
     "output_type": "stream",
     "text": [
      "+---------+--------------------+\n",
      "|  repo_id|     recommendations|\n",
      "+---------+--------------------+\n",
      "|151232910|[{6391776, 0.0635...|\n",
      "+---------+--------------------+\n",
      "\n"
     ]
    },
    {
     "name": "stderr",
     "output_type": "stream",
     "text": [
      "                                                                                \r"
     ]
    }
   ],
   "source": [
    "# Use the same sample to recommend users for this repo\n",
    "model.recommendForItemSubset(spark.createDataFrame(test_user), 3).show()"
   ]
  },
  {
   "cell_type": "code",
   "execution_count": 19,
   "id": "3a749845-eb75-4484-82f0-017845ba2ce8",
   "metadata": {},
   "outputs": [],
   "source": [
    "# Read model\n",
    "model_reload = ALSModel.load(\"../models/recommender_als\")"
   ]
  },
  {
   "cell_type": "code",
   "execution_count": 20,
   "id": "3d435604-b7b8-4d40-8be5-95eda8dc5580",
   "metadata": {},
   "outputs": [
    {
     "name": "stderr",
     "output_type": "stream",
     "text": [
      "[Stage 371:==================================================>(1995 + 5) / 2000]\r"
     ]
    },
    {
     "name": "stdout",
     "output_type": "stream",
     "text": [
      "+--------+--------------------+\n",
      "| user_id|     recommendations|\n",
      "+--------+--------------------+\n",
      "|29633025|[{10270250, 0.411...|\n",
      "+--------+--------------------+\n",
      "\n"
     ]
    },
    {
     "name": "stderr",
     "output_type": "stream",
     "text": [
      "                                                                                \r"
     ]
    }
   ],
   "source": [
    "# Check that model loaded correctly\n",
    "model_reload.recommendForUserSubset(spark.createDataFrame(test_user),3).show()"
   ]
  }
 ],
 "metadata": {
  "kernelspec": {
   "display_name": "Python 3 (ipykernel)",
   "language": "python",
   "name": "python3"
  },
  "language_info": {
   "codemirror_mode": {
    "name": "ipython",
    "version": 3
   },
   "file_extension": ".py",
   "mimetype": "text/x-python",
   "name": "python",
   "nbconvert_exporter": "python",
   "pygments_lexer": "ipython3",
   "version": "3.8.11"
  }
 },
 "nbformat": 4,
 "nbformat_minor": 5
}
